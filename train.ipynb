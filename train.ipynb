{
 "cells": [
  {
   "cell_type": "code",
   "execution_count": null,
   "metadata": {},
   "outputs": [],
   "source": [
    "import os\n",
    "import numpy as np\n",
    "import matplotlib.pyplot as plt\n",
    "\n",
    "import tensorflow as tf\n",
    "import keras\n",
    "\n",
    "from dataset import Dataset\n",
    "from multi_loss import MultiboxLoss\n",
    "from model import create_model\n",
    "from decode import decode\n",
    "from defaultbox import get_defaultbox"
   ]
  },
  {
   "cell_type": "markdown",
   "metadata": {},
   "source": [
    "## 物体検出アルゴリズム　SSD"
   ]
  },
  {
   "cell_type": "markdown",
   "metadata": {},
   "source": [
    "## サンプルモデル\n",
    "サンプルモデルの学習・評価を行うことでSSDアルゴリズムのテストせよ。"
   ]
  },
  {
   "cell_type": "markdown",
   "metadata": {},
   "source": [
    "## 学習"
   ]
  },
  {
   "cell_type": "code",
   "execution_count": null,
   "metadata": {},
   "outputs": [],
   "source": [
    "result_path = 'log'\n",
    "os.makedirs(result_path, exist_ok=True)\n",
    "\n",
    "\n",
    "model = create_model()\n",
    "# model.summary()\n",
    "\n",
    "loss = MultiboxLoss(offset=4, classes=2 + 1).multibox_loss\n",
    "\n",
    "optimizer = 'adam'\n",
    "model.compile(optimizer=optimizer, loss=loss)\n",
    "\n",
    "train_gen = Dataset(640, 16, (40, 40, 3),'train')\n",
    "val_gen = Dataset(160, 16, (40, 40, 3),'val')\n",
    "\n",
    "model.fit(train_gen, \n",
    "          epochs=15, \n",
    "          validation_data=val_gen)\n",
    "model.save(os.path.join(result_path, 'test_ssd.hdf5'))"
   ]
  },
  {
   "cell_type": "markdown",
   "metadata": {},
   "source": [
    "## 評価"
   ]
  },
  {
   "cell_type": "code",
   "execution_count": 1,
   "metadata": {},
   "outputs": [
    {
     "ename": "NameError",
     "evalue": "name 'val_gen' is not defined",
     "output_type": "error",
     "traceback": [
      "\u001b[1;31m---------------------------------------------------------------------------\u001b[0m",
      "\u001b[1;31mNameError\u001b[0m                                 Traceback (most recent call last)",
      "\u001b[1;32m~\\AppData\\Local\\Temp/ipykernel_5272/2897886414.py\u001b[0m in \u001b[0;36m<module>\u001b[1;34m\u001b[0m\n\u001b[1;32m----> 1\u001b[1;33m \u001b[0mimgs\u001b[0m\u001b[1;33m,\u001b[0m \u001b[0manno\u001b[0m \u001b[1;33m=\u001b[0m \u001b[0mval_gen\u001b[0m\u001b[1;33m.\u001b[0m\u001b[0m__getitem__\u001b[0m\u001b[1;33m(\u001b[0m\u001b[1;36m0\u001b[0m\u001b[1;33m)\u001b[0m\u001b[1;33m\u001b[0m\u001b[1;33m\u001b[0m\u001b[0m\n\u001b[0m\u001b[0;32m      2\u001b[0m \u001b[0mpred\u001b[0m \u001b[1;33m=\u001b[0m \u001b[0mmodel\u001b[0m\u001b[1;33m.\u001b[0m\u001b[0mpredict\u001b[0m\u001b[1;33m(\u001b[0m\u001b[0mimgs\u001b[0m\u001b[1;33m)\u001b[0m\u001b[1;33m\u001b[0m\u001b[1;33m\u001b[0m\u001b[0m\n\u001b[0;32m      3\u001b[0m \u001b[1;33m\u001b[0m\u001b[0m\n\u001b[0;32m      4\u001b[0m \u001b[0mmb_loc\u001b[0m\u001b[1;33m,\u001b[0m \u001b[0mmb_conf\u001b[0m \u001b[1;33m=\u001b[0m \u001b[0mpred\u001b[0m\u001b[1;33m[\u001b[0m\u001b[1;36m0\u001b[0m\u001b[1;33m,\u001b[0m \u001b[1;33m:\u001b[0m\u001b[1;33m,\u001b[0m \u001b[1;33m:\u001b[0m\u001b[1;36m4\u001b[0m\u001b[1;33m]\u001b[0m\u001b[1;33m,\u001b[0m \u001b[0mpred\u001b[0m\u001b[1;33m[\u001b[0m\u001b[1;36m0\u001b[0m\u001b[1;33m,\u001b[0m \u001b[1;33m:\u001b[0m\u001b[1;33m,\u001b[0m \u001b[1;36m4\u001b[0m\u001b[1;33m:\u001b[0m\u001b[1;33m]\u001b[0m\u001b[1;33m\u001b[0m\u001b[1;33m\u001b[0m\u001b[0m\n\u001b[0;32m      5\u001b[0m \u001b[0mdefbox\u001b[0m \u001b[1;33m=\u001b[0m \u001b[0mget_defaultbox\u001b[0m\u001b[1;33m(\u001b[0m\u001b[0mimage_size\u001b[0m\u001b[1;33m=\u001b[0m\u001b[1;33m(\u001b[0m\u001b[1;36m40\u001b[0m\u001b[1;33m,\u001b[0m \u001b[1;36m40\u001b[0m\u001b[1;33m,\u001b[0m \u001b[1;36m3\u001b[0m\u001b[1;33m)\u001b[0m\u001b[1;33m,\u001b[0m \u001b[0maspect\u001b[0m\u001b[1;33m=\u001b[0m\u001b[1;33m[\u001b[0m\u001b[1;33m]\u001b[0m\u001b[1;33m,\u001b[0m \u001b[0msmin\u001b[0m\u001b[1;33m=\u001b[0m\u001b[1;36m0.4\u001b[0m\u001b[1;33m,\u001b[0m \u001b[0msmax\u001b[0m\u001b[1;33m=\u001b[0m\u001b[1;36m1.0\u001b[0m\u001b[1;33m,\u001b[0m \u001b[0mlayers\u001b[0m\u001b[1;33m=\u001b[0m\u001b[1;33m[\u001b[0m\u001b[1;33m(\u001b[0m\u001b[1;36m5\u001b[0m\u001b[1;33m,\u001b[0m \u001b[1;36m5\u001b[0m\u001b[1;33m)\u001b[0m\u001b[1;33m,\u001b[0m \u001b[1;33m(\u001b[0m\u001b[1;36m3\u001b[0m\u001b[1;33m,\u001b[0m \u001b[1;36m3\u001b[0m\u001b[1;33m)\u001b[0m\u001b[1;33m,\u001b[0m \u001b[1;33m(\u001b[0m\u001b[1;36m1\u001b[0m\u001b[1;33m,\u001b[0m \u001b[1;36m1\u001b[0m\u001b[1;33m)\u001b[0m\u001b[1;33m]\u001b[0m\u001b[1;33m)\u001b[0m\u001b[1;33m\u001b[0m\u001b[1;33m\u001b[0m\u001b[0m\n",
      "\u001b[1;31mNameError\u001b[0m: name 'val_gen' is not defined"
     ]
    }
   ],
   "source": [
    "imgs, anno = val_gen.__getitem__(0)\n",
    "pred = model.predict(imgs)\n",
    "\n",
    "mb_loc, mb_conf = pred[0, :, :4], pred[0, :, 4:]\n",
    "defbox = get_defaultbox(image_size=(40, 40, 3), aspect=[], smin=0.4, smax=1.0, layers=[(5, 5), (3, 3), (1, 1)])\n",
    "bbox, label, score = decode(defbox, mb_loc, mb_conf)"
   ]
  },
  {
   "cell_type": "code",
   "execution_count": null,
   "metadata": {},
   "outputs": [
    {
     "name": "stdout",
     "output_type": "stream",
     "text": [
      "Epoch 1/50\n",
      "40/40 [==============================] - 314s 8s/step - loss: 8.1857 - val_loss: 8.5837\n",
      "Epoch 2/50\n",
      "40/40 [==============================] - 305s 8s/step - loss: 7.8173 - val_loss: 8.4650\n",
      "Epoch 3/50\n",
      "40/40 [==============================] - 318s 8s/step - loss: 7.3816 - val_loss: 8.1955\n",
      "Epoch 4/50\n",
      "40/40 [==============================] - 355s 9s/step - loss: 6.7946 - val_loss: 7.6736\n",
      "Epoch 5/50\n",
      "40/40 [==============================] - 303s 8s/step - loss: 6.1025 - val_loss: 6.8837\n",
      "Epoch 6/50\n",
      "40/40 [==============================] - 304s 8s/step - loss: 5.5316 - val_loss: 6.1481\n",
      "Epoch 7/50\n",
      "40/40 [==============================] - 329s 8s/step - loss: 5.1815 - val_loss: 5.7259\n",
      "Epoch 8/50\n",
      "40/40 [==============================] - 303s 8s/step - loss: 4.9668 - val_loss: 5.4650\n",
      "Epoch 9/50\n",
      "40/40 [==============================] - 309s 8s/step - loss: 4.8221 - val_loss: 5.2972\n",
      "Epoch 10/50\n",
      "40/40 [==============================] - 342s 9s/step - loss: 4.7235 - val_loss: 5.1611\n",
      "Epoch 11/50\n",
      "40/40 [==============================] - 308s 8s/step - loss: 4.6408 - val_loss: 5.0111\n",
      "Epoch 12/50\n",
      "40/40 [==============================] - 355s 9s/step - loss: 4.5788 - val_loss: 4.8992\n",
      "Epoch 13/50\n",
      "40/40 [==============================] - 337s 8s/step - loss: 4.5297 - val_loss: 4.8049\n",
      "Epoch 14/50\n",
      "40/40 [==============================] - 423s 11s/step - loss: 4.4860 - val_loss: 4.7244\n",
      "Epoch 15/50\n",
      "40/40 [==============================] - 399s 9s/step - loss: 4.4506 - val_loss: 4.6697\n",
      "Epoch 16/50\n",
      "40/40 [==============================] - 315s 8s/step - loss: 4.4172 - val_loss: 4.6426\n",
      "Epoch 17/50\n",
      "40/40 [==============================] - 413s 10s/step - loss: 4.3878 - val_loss: 4.5864\n",
      "Epoch 18/50\n",
      "40/40 [==============================] - 314s 8s/step - loss: 4.3610 - val_loss: 4.5662\n",
      "Epoch 19/50\n",
      "40/40 [==============================] - 326s 8s/step - loss: 4.3379 - val_loss: 4.5359\n",
      "Epoch 20/50\n",
      "40/40 [==============================] - 408s 10s/step - loss: 4.3152 - val_loss: 4.5201\n",
      "Epoch 21/50\n",
      "40/40 [==============================] - 317s 8s/step - loss: 4.2930 - val_loss: 4.5193\n",
      "Epoch 22/50\n",
      "40/40 [==============================] - 1934s 49s/step - loss: 4.2732 - val_loss: 4.4994\n",
      "Epoch 23/50\n",
      "40/40 [==============================] - 315s 8s/step - loss: 4.2526 - val_loss: 4.4931\n",
      "Epoch 24/50\n",
      "40/40 [==============================] - 315s 8s/step - loss: 4.2378 - val_loss: 4.4705\n",
      "Epoch 25/50\n",
      "40/40 [==============================] - 328s 8s/step - loss: 4.2189 - val_loss: 4.4676\n",
      "Epoch 26/50\n",
      "40/40 [==============================] - 318s 8s/step - loss: 4.2003 - val_loss: 4.4560\n",
      "Epoch 27/50\n",
      "40/40 [==============================] - 323s 8s/step - loss: 4.1850 - val_loss: 4.4493\n",
      "Epoch 28/50\n",
      "40/40 [==============================] - 348s 9s/step - loss: 4.1674 - val_loss: 4.4541\n",
      "Epoch 29/50\n",
      "40/40 [==============================] - 316s 8s/step - loss: 4.1489 - val_loss: 4.4440\n",
      "Epoch 30/50\n",
      "40/40 [==============================] - 386s 10s/step - loss: 4.1399 - val_loss: 4.4410\n",
      "Epoch 31/50\n",
      " 1/40 [..............................] - ETA: 5:09 - loss: 4.5854"
     ]
    }
   ],
   "source": [
    "import os\n",
    "import numpy as np\n",
    "import matplotlib.pyplot as plt\n",
    "\n",
    "import tensorflow as tf\n",
    "import keras\n",
    "\n",
    "from dataset import Dataset\n",
    "from multi_loss import MultiboxLoss\n",
    "from model import create_model\n",
    "from decode import decode\n",
    "from defaultbox import get_defaultbox\n",
    "\n",
    "\n",
    "result_path = 'log'\n",
    "os.makedirs(result_path, exist_ok=True)\n",
    "\n",
    "\n",
    "model = create_model()\n",
    "# model.summary()\n",
    "\n",
    "loss = MultiboxLoss(offset=4, classes=2+1).multibox_loss\n",
    "\n",
    "optimizer = tf.keras.optimizers.Adam(learning_rate=0.00001)\n",
    "model.compile(optimizer=optimizer, loss=loss)\n",
    "\n",
    "train_gen = Dataset(640, 16, (40, 40, 3), 'train')\n",
    "val_gen = Dataset(64, 16, (40, 40, 3), 'val')\n",
    "history = model.fit(train_gen, \n",
    "          epochs=50,\n",
    "          validation_data=val_gen)\n",
    "model.save(os.path.join(result_path, 'test_ssd.hdf5'))\n",
    "plt.figure(figsize=(20, 10))\n",
    "# Plot training & validation loss values\n",
    "plt.subplot(121)\n",
    "plt.plot(history.history['loss'])\n",
    "plt.plot(history.history['val_loss'])\n",
    "plt.title('Model loss')\n",
    "plt.ylabel('Loss')\n",
    "plt.xlabel('Epoch')\n",
    "plt.legend(['Train', 'Test'], loc='upper left')\n",
    "fig_path = os.path.join('log', 'test_log.png')\n",
    "plt.savefig(fig_path)\n",
    "#imgs, anno = val_gen.__getitem__(0)\n",
    "#pred = model.predict(imgs)\n",
    "#print(pred[0, 0, :])\n",
    "#model.save(os.path.join(result_path, 'test_ssd.hdf5'))\n"
   ]
  },
  {
   "cell_type": "code",
   "execution_count": null,
   "metadata": {},
   "outputs": [],
   "source": []
  }
 ],
 "metadata": {
  "interpreter": {
   "hash": "1c8bf757565c2540e9885aa2e3745c6c6d2b4b7241621cf118a165ff2fed2bf8"
  },
  "kernelspec": {
   "display_name": "Python 3 (ipykernel)",
   "language": "python",
   "name": "python3"
  },
  "language_info": {
   "codemirror_mode": {
    "name": "ipython",
    "version": 3
   },
   "file_extension": ".py",
   "mimetype": "text/x-python",
   "name": "python",
   "nbconvert_exporter": "python",
   "pygments_lexer": "ipython3",
   "version": "3.9.10"
  }
 },
 "nbformat": 4,
 "nbformat_minor": 2
}
